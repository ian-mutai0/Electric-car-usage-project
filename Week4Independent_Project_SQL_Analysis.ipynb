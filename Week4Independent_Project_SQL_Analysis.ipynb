{
  "nbformat": 4,
  "nbformat_minor": 0,
  "metadata": {
    "colab": {
      "name": "Week4Independent Project SQL Analysis.ipynb",
      "provenance": [],
      "toc_visible": true,
      "authorship_tag": "ABX9TyPIi45rqStuSmO1yQomOqHZ",
      "include_colab_link": true
    },
    "kernelspec": {
      "name": "python3",
      "display_name": "Python 3"
    },
    "language_info": {
      "name": "python"
    }
  },
  "cells": [
    {
      "cell_type": "markdown",
      "metadata": {
        "id": "view-in-github",
        "colab_type": "text"
      },
      "source": [
        "<a href=\"https://colab.research.google.com/github/ian-mutai0/Electric-car-usage-project/blob/main/Week4Independent_Project_SQL_Analysis.ipynb\" target=\"_parent\"><img src=\"https://colab.research.google.com/assets/colab-badge.svg\" alt=\"Open In Colab\"/></a>"
      ]
    },
    {
      "cell_type": "markdown",
      "metadata": {
        "id": "RtmRO_ZVfZt5"
      },
      "source": [
        "# Data Analysis using SQL : Electric Car Usage in France in the month of April 2018"
      ]
    },
    {
      "cell_type": "markdown",
      "metadata": {
        "id": "gVVcsKZzgYEd"
      },
      "source": [
        "# **Connecting to our SQL database**"
      ]
    },
    {
      "cell_type": "code",
      "metadata": {
        "colab": {
          "base_uri": "https://localhost:8080/",
          "height": 35
        },
        "id": "z6zs-KH1fHu1",
        "outputId": "a70d81b9-bc83-4272-a6cc-3b5d7110713f"
      },
      "source": [
        "# We first load the sql extension into our environment\n",
        "%load_ext sql\n",
        "\n",
        "# Then connect to our in memory sqlite database\n",
        "%sql sqlite://"
      ],
      "execution_count": 1,
      "outputs": [
        {
          "output_type": "execute_result",
          "data": {
            "application/vnd.google.colaboratory.intrinsic+json": {
              "type": "string"
            },
            "text/plain": [
              "'Connected: @None'"
            ]
          },
          "metadata": {
            "tags": []
          },
          "execution_count": 1
        }
      ]
    },
    {
      "cell_type": "markdown",
      "metadata": {
        "id": "xK6qie1ygz2y"
      },
      "source": [
        "# **Importing relevant libraries into our notebook**"
      ]
    },
    {
      "cell_type": "code",
      "metadata": {
        "id": "NyDzMsBHhBR2"
      },
      "source": [
        "# We go ahead to import the pandas library\n",
        "# We will use a function read_csv from pandas to read our electric car usage dataset\n",
        "import pandas as pd "
      ],
      "execution_count": 2,
      "outputs": []
    },
    {
      "cell_type": "markdown",
      "metadata": {
        "id": "dksME_RohtU0"
      },
      "source": [
        "# **Reading the csv file into our environment**"
      ]
    },
    {
      "cell_type": "code",
      "metadata": {
        "id": "UCNO-67kh2Kg",
        "colab": {
          "base_uri": "https://localhost:8080/",
          "height": 471
        },
        "outputId": "ee68f6de-66f7-4f31-9e00-308e8cb99fd1"
      },
      "source": [
        "with open('/content/Electric Car Usage.csv','r') as f:\n",
        "    ElectricCar_Usage = pd.read_csv(f, index_col=0, encoding='utf-8')\n",
        "%sql DROP TABLE if EXISTS ElectricCar_Usage;\n",
        "%sql PERSIST ElectricCar_Usage;\n",
        "%sql SELECT * FROM ElectricCar_Usage LIMIT 5;"
      ],
      "execution_count": 3,
      "outputs": [
        {
          "output_type": "stream",
          "text": [
            " * sqlite://\n",
            "Done.\n",
            " * sqlite://\n",
            " * sqlite://\n",
            "Done.\n"
          ],
          "name": "stdout"
        },
        {
          "output_type": "execute_result",
          "data": {
            "text/html": [
              "<table>\n",
              "    <thead>\n",
              "        <tr>\n",
              "            <th>address</th>\n",
              "            <th>bluecar counter</th>\n",
              "            <th>utilib counter</th>\n",
              "            <th>utilib 1.4 counter</th>\n",
              "            <th>charge slots</th>\n",
              "            <th>charging status</th>\n",
              "            <th>city</th>\n",
              "            <th>id</th>\n",
              "            <th>kind</th>\n",
              "            <th>postal code</th>\n",
              "            <th>public name</th>\n",
              "            <th>rental status</th>\n",
              "            <th>slots</th>\n",
              "            <th>station type</th>\n",
              "            <th>status</th>\n",
              "            <th>subscription status</th>\n",
              "            <th>year</th>\n",
              "            <th>month</th>\n",
              "            <th>day</th>\n",
              "            <th>hour</th>\n",
              "            <th>minute</th>\n",
              "        </tr>\n",
              "    </thead>\n",
              "    <tbody>\n",
              "        <tr>\n",
              "            <td>2 Avenue de Suffren</td>\n",
              "            <td>0</td>\n",
              "            <td>0</td>\n",
              "            <td>0</td>\n",
              "            <td>0</td>\n",
              "            <td>nonexistent</td>\n",
              "            <td>Paris</td>\n",
              "            <td>paris-suffren-2</td>\n",
              "            <td>STATION</td>\n",
              "            <td>75015</td>\n",
              "            <td>Paris/Suffren/2</td>\n",
              "            <td>operational</td>\n",
              "            <td>2</td>\n",
              "            <td>station</td>\n",
              "            <td>ok</td>\n",
              "            <td>nonexistent</td>\n",
              "            <td>2018</td>\n",
              "            <td>4</td>\n",
              "            <td>8</td>\n",
              "            <td>11</td>\n",
              "            <td>43</td>\n",
              "        </tr>\n",
              "        <tr>\n",
              "            <td>145 Rue Raymond Losserand</td>\n",
              "            <td>6</td>\n",
              "            <td>0</td>\n",
              "            <td>0</td>\n",
              "            <td>0</td>\n",
              "            <td>operational</td>\n",
              "            <td>Paris</td>\n",
              "            <td>paris-raymondlosserand-145</td>\n",
              "            <td>STATION</td>\n",
              "            <td>75014</td>\n",
              "            <td>Paris/Raymond Losserand/145</td>\n",
              "            <td>operational</td>\n",
              "            <td>0</td>\n",
              "            <td>station</td>\n",
              "            <td>ok</td>\n",
              "            <td>nonexistent</td>\n",
              "            <td>2018</td>\n",
              "            <td>4</td>\n",
              "            <td>6</td>\n",
              "            <td>7</td>\n",
              "            <td>24</td>\n",
              "        </tr>\n",
              "        <tr>\n",
              "            <td>2 Avenue John Fitzgerald Kennedy</td>\n",
              "            <td>3</td>\n",
              "            <td>0</td>\n",
              "            <td>2</td>\n",
              "            <td>0</td>\n",
              "            <td>operational</td>\n",
              "            <td>Le Bourget</td>\n",
              "            <td>lebourget-johnfitzgeraldkennedy-2</td>\n",
              "            <td>STATION</td>\n",
              "            <td>93350</td>\n",
              "            <td>Le Bourget/John Fitzgerald Kennedy/2</td>\n",
              "            <td>operational</td>\n",
              "            <td>1</td>\n",
              "            <td>station</td>\n",
              "            <td>ok</td>\n",
              "            <td>nonexistent</td>\n",
              "            <td>2018</td>\n",
              "            <td>4</td>\n",
              "            <td>3</td>\n",
              "            <td>20</td>\n",
              "            <td>14</td>\n",
              "        </tr>\n",
              "        <tr>\n",
              "            <td>51 Rue EugÃ¨ne OudinÃ©</td>\n",
              "            <td>3</td>\n",
              "            <td>1</td>\n",
              "            <td>0</td>\n",
              "            <td>1</td>\n",
              "            <td>operational</td>\n",
              "            <td>Paris</td>\n",
              "            <td>paris-eugeneoudine-51</td>\n",
              "            <td>STATION</td>\n",
              "            <td>75013</td>\n",
              "            <td>Paris/EugÃ¨ne OudinÃ©/51</td>\n",
              "            <td>operational</td>\n",
              "            <td>2</td>\n",
              "            <td>station</td>\n",
              "            <td>ok</td>\n",
              "            <td>nonexistent</td>\n",
              "            <td>2018</td>\n",
              "            <td>4</td>\n",
              "            <td>4</td>\n",
              "            <td>4</td>\n",
              "            <td>37</td>\n",
              "        </tr>\n",
              "        <tr>\n",
              "            <td>6 avenue de la Porte de Champerret</td>\n",
              "            <td>3</td>\n",
              "            <td>0</td>\n",
              "            <td>0</td>\n",
              "            <td>0</td>\n",
              "            <td>nonexistent</td>\n",
              "            <td>Paris</td>\n",
              "            <td>paris-portedechamperret-6</td>\n",
              "            <td>PARKING</td>\n",
              "            <td>75017</td>\n",
              "            <td>Paris/Porte de Champerret/6</td>\n",
              "            <td>operational</td>\n",
              "            <td>3</td>\n",
              "            <td>station</td>\n",
              "            <td>ok</td>\n",
              "            <td>nonexistent</td>\n",
              "            <td>2018</td>\n",
              "            <td>4</td>\n",
              "            <td>8</td>\n",
              "            <td>17</td>\n",
              "            <td>23</td>\n",
              "        </tr>\n",
              "    </tbody>\n",
              "</table>"
            ],
            "text/plain": [
              "[('2 Avenue de Suffren', 0, 0, 0, 0, 'nonexistent', 'Paris', 'paris-suffren-2', 'STATION', 75015, 'Paris/Suffren/2', 'operational', 2, 'station', 'ok', 'nonexistent', 2018, 4, 8, 11, 43),\n",
              " ('145 Rue Raymond Losserand', 6, 0, 0, 0, 'operational', 'Paris', 'paris-raymondlosserand-145', 'STATION', 75014, 'Paris/Raymond Losserand/145', 'operational', 0, 'station', 'ok', 'nonexistent', 2018, 4, 6, 7, 24),\n",
              " ('2 Avenue John Fitzgerald Kennedy', 3, 0, 2, 0, 'operational', 'Le Bourget', 'lebourget-johnfitzgeraldkennedy-2', 'STATION', 93350, 'Le Bourget/John Fitzgerald Kennedy/2', 'operational', 1, 'station', 'ok', 'nonexistent', 2018, 4, 3, 20, 14),\n",
              " ('51 Rue EugÃ¨ne OudinÃ©', 3, 1, 0, 1, 'operational', 'Paris', 'paris-eugeneoudine-51', 'STATION', 75013, 'Paris/EugÃ¨ne OudinÃ©/51', 'operational', 2, 'station', 'ok', 'nonexistent', 2018, 4, 4, 4, 37),\n",
              " ('6 avenue de la Porte de Champerret', 3, 0, 0, 0, 'nonexistent', 'Paris', 'paris-portedechamperret-6', 'PARKING', 75017, 'Paris/Porte de Champerret/6', 'operational', 3, 'station', 'ok', 'nonexistent', 2018, 4, 8, 17, 23)]"
            ]
          },
          "metadata": {
            "tags": []
          },
          "execution_count": 3
        }
      ]
    },
    {
      "cell_type": "markdown",
      "metadata": {
        "id": "G9s2vcYxZS8j"
      },
      "source": [
        "# **Answering the research questions**"
      ]
    },
    {
      "cell_type": "markdown",
      "metadata": {
        "id": "Bh29dOuKaETO"
      },
      "source": [
        "## **Question 1. Identify the most popular hour of the day for picking up a shared electric car (Bluecar) in the city of Paris over the month of April 2018.**"
      ]
    },
    {
      "cell_type": "code",
      "metadata": {
        "colab": {
          "base_uri": "https://localhost:8080/",
          "height": 95
        },
        "id": "wSjKWjflavYZ",
        "outputId": "d2b468ad-6b34-4a59-dea3-9bc34b1a486c"
      },
      "source": [
        "%%sql\n",
        "SELECT hour from ElectricCar_Usage\n",
        "WHERE \"bluecar counter\" = 0 and city = 'Paris' and status = \"ok\" and \"rental status\" = 'operational' and kind <> 'CENTER' and 'station type' <> \"subs_center\"\n",
        "GROUP BY hour\n",
        "ORDER BY count(hour) DESC\n",
        "LIMIT 1;"
      ],
      "execution_count": 4,
      "outputs": [
        {
          "output_type": "stream",
          "text": [
            " * sqlite://\n",
            "Done.\n"
          ],
          "name": "stdout"
        },
        {
          "output_type": "execute_result",
          "data": {
            "text/html": [
              "<table>\n",
              "    <thead>\n",
              "        <tr>\n",
              "            <th>hour</th>\n",
              "        </tr>\n",
              "    </thead>\n",
              "    <tbody>\n",
              "        <tr>\n",
              "            <td>2</td>\n",
              "        </tr>\n",
              "    </tbody>\n",
              "</table>"
            ],
            "text/plain": [
              "[(2,)]"
            ]
          },
          "metadata": {
            "tags": []
          },
          "execution_count": 4
        }
      ]
    },
    {
      "cell_type": "markdown",
      "metadata": {
        "id": "JYgx-2fzkM9w"
      },
      "source": [
        "- Therefore we can determine that **hour 2 (2am)** was the most popular hour of the day for picking up a Bluecar in the city of Paris over the month of April 2018. "
      ]
    },
    {
      "cell_type": "markdown",
      "metadata": {
        "id": "HSsCq4l0umJU"
      },
      "source": [
        "## **Question 2. What is the most popular hour for returning cars ?**"
      ]
    },
    {
      "cell_type": "code",
      "metadata": {
        "colab": {
          "base_uri": "https://localhost:8080/",
          "height": 95
        },
        "id": "telkGvVIa2ck",
        "outputId": "292749cc-29c1-4d3e-d4c3-0810caeba2cb"
      },
      "source": [
        "%%sql\n",
        "SELECT count('bluecar counter'), hour from ElectricCar_Usage\n",
        "WHERE city = 'Paris' and status = \"ok\" and \"rental status\" = 'operational' and kind <> 'CENTER' and 'station type' <> \"subs_center\"\n",
        "GROUP BY hour\n",
        "ORDER BY count('bluecar counter') DESC\n",
        "LIMIT 1;"
      ],
      "execution_count": 6,
      "outputs": [
        {
          "output_type": "stream",
          "text": [
            " * sqlite://\n",
            "Done.\n"
          ],
          "name": "stdout"
        },
        {
          "output_type": "execute_result",
          "data": {
            "text/html": [
              "<table>\n",
              "    <thead>\n",
              "        <tr>\n",
              "            <th>count(&#x27;bluecar counter&#x27;)</th>\n",
              "            <th>hour</th>\n",
              "        </tr>\n",
              "    </thead>\n",
              "    <tbody>\n",
              "        <tr>\n",
              "            <td>132</td>\n",
              "            <td>21</td>\n",
              "        </tr>\n",
              "    </tbody>\n",
              "</table>"
            ],
            "text/plain": [
              "[(132, 21)]"
            ]
          },
          "metadata": {
            "tags": []
          },
          "execution_count": 6
        }
      ]
    },
    {
      "cell_type": "markdown",
      "metadata": {
        "id": "TdSt0GKevPyC"
      },
      "source": [
        "- We can determine that **hour 21 (9pm)** was the most popular hour of the day for returning a Bluecar in Paris over the month of April 2018"
      ]
    },
    {
      "cell_type": "markdown",
      "metadata": {
        "id": "F1IOw5HnoiNF"
      },
      "source": [
        "## **Question 3. What station is the most popular?**"
      ]
    },
    {
      "cell_type": "code",
      "metadata": {
        "colab": {
          "base_uri": "https://localhost:8080/",
          "height": 95
        },
        "id": "DKghLrWgbGBb",
        "outputId": "cdae2021-d9b9-45bb-d5ba-d7b2e3090346"
      },
      "source": [
        "%%sql\n",
        "SELECT \"public name\", count(\"public name\"), city from ElectricCar_Usage\n",
        "WHERE kind in ('STATION','SPACE') and \"charging status\" = 'operational' and \"rental status\" = 'operational' and \"station type\" <> 'subs_center' and status = 'ok' and \"subscription status\" = 'operational'\n",
        "GROUP BY \"public name\" \n",
        "ORDER BY count(\"public name\") DESC\n",
        "LIMIT 1;"
      ],
      "execution_count": 7,
      "outputs": [
        {
          "output_type": "stream",
          "text": [
            " * sqlite://\n",
            "Done.\n"
          ],
          "name": "stdout"
        },
        {
          "output_type": "execute_result",
          "data": {
            "text/html": [
              "<table>\n",
              "    <thead>\n",
              "        <tr>\n",
              "            <th>public name</th>\n",
              "            <th>count(&quot;public name&quot;)</th>\n",
              "            <th>city</th>\n",
              "        </tr>\n",
              "    </thead>\n",
              "    <tbody>\n",
              "        <tr>\n",
              "            <td>Paris/PyrÃ©nÃ©es/137</td>\n",
              "            <td>7</td>\n",
              "            <td>Paris</td>\n",
              "        </tr>\n",
              "    </tbody>\n",
              "</table>"
            ],
            "text/plain": [
              "[('Paris/PyrÃ©nÃ©es/137', 7, 'Paris')]"
            ]
          },
          "metadata": {
            "tags": []
          },
          "execution_count": 7
        }
      ]
    },
    {
      "cell_type": "markdown",
      "metadata": {
        "id": "VJOb9IZkuzmK"
      },
      "source": [
        "- We can determine that the station **Paris/PyrÃ©nÃ©es/137 in Paris** is the most popular station.  "
      ]
    },
    {
      "cell_type": "markdown",
      "metadata": {
        "id": "Mtvvj1vpvIgv"
      },
      "source": [
        "## **Question 4. What station is the most popular at 2am(most popular picking hour)?**"
      ]
    },
    {
      "cell_type": "code",
      "metadata": {
        "colab": {
          "base_uri": "https://localhost:8080/",
          "height": 95
        },
        "id": "qpJFq0wdbU00",
        "outputId": "2e0465b7-5c5e-4ef2-c1fe-54a3b0966e44"
      },
      "source": [
        "%%sql\n",
        "SELECT \"public name\", count(\"public name\"), city from ElectricCar_Usage\n",
        "WHERE hour = 2 and kind in ('STATION','SPACE') and \"charging status\" = 'operational' and \"rental status\" = 'operational' and \"station type\" <> 'subs_center' and status = 'ok' and \"subscription status\" = 'operational'\n",
        "GROUP BY \"public name\" \n",
        "ORDER BY count(\"public name\") DESC\n",
        "LIMIT 1;"
      ],
      "execution_count": 8,
      "outputs": [
        {
          "output_type": "stream",
          "text": [
            " * sqlite://\n",
            "Done.\n"
          ],
          "name": "stdout"
        },
        {
          "output_type": "execute_result",
          "data": {
            "text/html": [
              "<table>\n",
              "    <thead>\n",
              "        <tr>\n",
              "            <th>public name</th>\n",
              "            <th>count(&quot;public name&quot;)</th>\n",
              "            <th>city</th>\n",
              "        </tr>\n",
              "    </thead>\n",
              "    <tbody>\n",
              "        <tr>\n",
              "            <td>Paris/Parmentier/2</td>\n",
              "            <td>1</td>\n",
              "            <td>Paris</td>\n",
              "        </tr>\n",
              "    </tbody>\n",
              "</table>"
            ],
            "text/plain": [
              "[('Paris/Parmentier/2', 1, 'Paris')]"
            ]
          },
          "metadata": {
            "tags": []
          },
          "execution_count": 8
        }
      ]
    },
    {
      "cell_type": "markdown",
      "metadata": {
        "id": "WOegDed53TYe"
      },
      "source": [
        "- We can determine that the station **Paris/Parmentier/2** is the most popular station at 2am. "
      ]
    }
  ]
}