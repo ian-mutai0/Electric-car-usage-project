{
  "nbformat": 4,
  "nbformat_minor": 0,
  "metadata": {
    "colab": {
      "name": "Week4Independent Project.ipynb",
      "provenance": [],
      "collapsed_sections": [
        "2KsfRb2GUybN"
      ],
      "toc_visible": true,
      "authorship_tag": "ABX9TyOZpjcod6P5tm4I67Ch+dZj",
      "include_colab_link": true
    },
    "kernelspec": {
      "name": "python3",
      "display_name": "Python 3"
    },
    "language_info": {
      "name": "python"
    }
  },
  "cells": [
    {
      "cell_type": "markdown",
      "metadata": {
        "id": "view-in-github",
        "colab_type": "text"
      },
      "source": [
        "<a href=\"https://colab.research.google.com/github/ian-mutai0/Electric-car-usage-project/blob/main/Week4Independent_Project.ipynb\" target=\"_parent\"><img src=\"https://colab.research.google.com/assets/colab-badge.svg\" alt=\"Open In Colab\"/></a>"
      ]
    },
    {
      "cell_type": "markdown",
      "metadata": {
        "id": "2v4Ykna_UnMg"
      },
      "source": [
        "# Week 4 Independent Project\n",
        "\n",
        "\n",
        "\n"
      ]
    },
    {
      "cell_type": "markdown",
      "metadata": {
        "id": "2KsfRb2GUybN"
      },
      "source": [
        "# **Importing the relevant libraries into our notebook**"
      ]
    },
    {
      "cell_type": "code",
      "metadata": {
        "id": "ywAj_K59U9mK"
      },
      "source": [
        "# We first import the pandas library \n",
        "import pandas as pd\n",
        "\n",
        "# We then import the numpy library\n",
        "import numpy as np\n",
        "\n",
        "# We also import matplotlib just incase we need to identify outliers\n",
        "import matplotlib.pyplot as plt \n",
        "% matplotlib inline \n"
      ],
      "execution_count": 2,
      "outputs": []
    },
    {
      "cell_type": "markdown",
      "metadata": {
        "id": "fJyIoYeUU7er"
      },
      "source": [
        "# **Reading the Dataset from the URL**"
      ]
    },
    {
      "cell_type": "markdown",
      "metadata": {
        "id": "8bCjzEvc4i1T"
      },
      "source": [
        "\n",
        "\n",
        "* The dataset we will use for research and analysis   contains the station and electric car usage details in some of the major cities in France. \n",
        "*   The data was collected within a period of 9 days in the month of April 2018. \n",
        "*   The URL to be used to access our data file: [http://bit.ly/autolib_dataset]\n"
      ]
    },
    {
      "cell_type": "code",
      "metadata": {
        "colab": {
          "base_uri": "https://localhost:8080/",
          "height": 753
        },
        "id": "M3lwZcoyT7Kj",
        "outputId": "73513e36-c759-40aa-c381-af7fa4c755db"
      },
      "source": [
        "# We first load the .csv file into our notebook using \n",
        "# the read_csv function\n",
        "electric_car = pd.read_csv(\"http://bit.ly/autolib_dataset\")\n",
        "\n",
        "# Then we preview the first 10 records just to get a sense of what our data is about\n",
        "electric_car.head(10)"
      ],
      "execution_count": 3,
      "outputs": [
        {
          "output_type": "execute_result",
          "data": {
            "text/html": [
              "<div>\n",
              "<style scoped>\n",
              "    .dataframe tbody tr th:only-of-type {\n",
              "        vertical-align: middle;\n",
              "    }\n",
              "\n",
              "    .dataframe tbody tr th {\n",
              "        vertical-align: top;\n",
              "    }\n",
              "\n",
              "    .dataframe thead th {\n",
              "        text-align: right;\n",
              "    }\n",
              "</style>\n",
              "<table border=\"1\" class=\"dataframe\">\n",
              "  <thead>\n",
              "    <tr style=\"text-align: right;\">\n",
              "      <th></th>\n",
              "      <th>Address</th>\n",
              "      <th>Cars</th>\n",
              "      <th>Bluecar counter</th>\n",
              "      <th>Utilib counter</th>\n",
              "      <th>Utilib 1.4 counter</th>\n",
              "      <th>Charge Slots</th>\n",
              "      <th>Charging Status</th>\n",
              "      <th>City</th>\n",
              "      <th>Displayed comment</th>\n",
              "      <th>ID</th>\n",
              "      <th>Kind</th>\n",
              "      <th>Geo point</th>\n",
              "      <th>Postal code</th>\n",
              "      <th>Public name</th>\n",
              "      <th>Rental status</th>\n",
              "      <th>Scheduled at</th>\n",
              "      <th>Slots</th>\n",
              "      <th>Station type</th>\n",
              "      <th>Status</th>\n",
              "      <th>Subscription status</th>\n",
              "      <th>year</th>\n",
              "      <th>month</th>\n",
              "      <th>day</th>\n",
              "      <th>hour</th>\n",
              "      <th>minute</th>\n",
              "    </tr>\n",
              "  </thead>\n",
              "  <tbody>\n",
              "    <tr>\n",
              "      <th>0</th>\n",
              "      <td>2 Avenue de Suffren</td>\n",
              "      <td>0</td>\n",
              "      <td>0</td>\n",
              "      <td>0</td>\n",
              "      <td>0</td>\n",
              "      <td>0</td>\n",
              "      <td>nonexistent</td>\n",
              "      <td>Paris</td>\n",
              "      <td>NaN</td>\n",
              "      <td>paris-suffren-2</td>\n",
              "      <td>STATION</td>\n",
              "      <td>48.857, 2.2917</td>\n",
              "      <td>75015</td>\n",
              "      <td>Paris/Suffren/2</td>\n",
              "      <td>operational</td>\n",
              "      <td>NaN</td>\n",
              "      <td>2</td>\n",
              "      <td>station</td>\n",
              "      <td>ok</td>\n",
              "      <td>nonexistent</td>\n",
              "      <td>2018</td>\n",
              "      <td>4</td>\n",
              "      <td>8</td>\n",
              "      <td>11</td>\n",
              "      <td>43</td>\n",
              "    </tr>\n",
              "    <tr>\n",
              "      <th>1</th>\n",
              "      <td>145 Rue Raymond Losserand</td>\n",
              "      <td>6</td>\n",
              "      <td>6</td>\n",
              "      <td>0</td>\n",
              "      <td>0</td>\n",
              "      <td>0</td>\n",
              "      <td>operational</td>\n",
              "      <td>Paris</td>\n",
              "      <td>NaN</td>\n",
              "      <td>paris-raymondlosserand-145</td>\n",
              "      <td>STATION</td>\n",
              "      <td>48.83126, 2.313088</td>\n",
              "      <td>75014</td>\n",
              "      <td>Paris/Raymond Losserand/145</td>\n",
              "      <td>operational</td>\n",
              "      <td>NaN</td>\n",
              "      <td>0</td>\n",
              "      <td>station</td>\n",
              "      <td>ok</td>\n",
              "      <td>nonexistent</td>\n",
              "      <td>2018</td>\n",
              "      <td>4</td>\n",
              "      <td>6</td>\n",
              "      <td>7</td>\n",
              "      <td>24</td>\n",
              "    </tr>\n",
              "    <tr>\n",
              "      <th>2</th>\n",
              "      <td>2 Avenue John Fitzgerald Kennedy</td>\n",
              "      <td>3</td>\n",
              "      <td>3</td>\n",
              "      <td>0</td>\n",
              "      <td>2</td>\n",
              "      <td>0</td>\n",
              "      <td>operational</td>\n",
              "      <td>Le Bourget</td>\n",
              "      <td>NaN</td>\n",
              "      <td>lebourget-johnfitzgeraldkennedy-2</td>\n",
              "      <td>STATION</td>\n",
              "      <td>48.938103, 2.4286035</td>\n",
              "      <td>93350</td>\n",
              "      <td>Le Bourget/John Fitzgerald Kennedy/2</td>\n",
              "      <td>operational</td>\n",
              "      <td>NaN</td>\n",
              "      <td>1</td>\n",
              "      <td>station</td>\n",
              "      <td>ok</td>\n",
              "      <td>nonexistent</td>\n",
              "      <td>2018</td>\n",
              "      <td>4</td>\n",
              "      <td>3</td>\n",
              "      <td>20</td>\n",
              "      <td>14</td>\n",
              "    </tr>\n",
              "    <tr>\n",
              "      <th>3</th>\n",
              "      <td>51 Rue EugÃ¨ne OudinÃ©</td>\n",
              "      <td>3</td>\n",
              "      <td>3</td>\n",
              "      <td>1</td>\n",
              "      <td>0</td>\n",
              "      <td>1</td>\n",
              "      <td>operational</td>\n",
              "      <td>Paris</td>\n",
              "      <td>NaN</td>\n",
              "      <td>paris-eugeneoudine-51</td>\n",
              "      <td>STATION</td>\n",
              "      <td>48.8250327, 2.3725162</td>\n",
              "      <td>75013</td>\n",
              "      <td>Paris/EugÃ¨ne OudinÃ©/51</td>\n",
              "      <td>operational</td>\n",
              "      <td>NaN</td>\n",
              "      <td>2</td>\n",
              "      <td>station</td>\n",
              "      <td>ok</td>\n",
              "      <td>nonexistent</td>\n",
              "      <td>2018</td>\n",
              "      <td>4</td>\n",
              "      <td>4</td>\n",
              "      <td>4</td>\n",
              "      <td>37</td>\n",
              "    </tr>\n",
              "    <tr>\n",
              "      <th>4</th>\n",
              "      <td>6 avenue de la Porte de Champerret</td>\n",
              "      <td>3</td>\n",
              "      <td>3</td>\n",
              "      <td>0</td>\n",
              "      <td>0</td>\n",
              "      <td>0</td>\n",
              "      <td>nonexistent</td>\n",
              "      <td>Paris</td>\n",
              "      <td>NaN</td>\n",
              "      <td>paris-portedechamperret-6</td>\n",
              "      <td>PARKING</td>\n",
              "      <td>48.8862632, 2.2874511</td>\n",
              "      <td>75017</td>\n",
              "      <td>Paris/Porte de Champerret/6</td>\n",
              "      <td>operational</td>\n",
              "      <td>NaN</td>\n",
              "      <td>3</td>\n",
              "      <td>station</td>\n",
              "      <td>ok</td>\n",
              "      <td>nonexistent</td>\n",
              "      <td>2018</td>\n",
              "      <td>4</td>\n",
              "      <td>8</td>\n",
              "      <td>17</td>\n",
              "      <td>23</td>\n",
              "    </tr>\n",
              "    <tr>\n",
              "      <th>5</th>\n",
              "      <td>8 Boulevard Voltaire</td>\n",
              "      <td>0</td>\n",
              "      <td>0</td>\n",
              "      <td>0</td>\n",
              "      <td>0</td>\n",
              "      <td>0</td>\n",
              "      <td>nonexistent</td>\n",
              "      <td>Paris</td>\n",
              "      <td>NaN</td>\n",
              "      <td>paris-voltaire-8</td>\n",
              "      <td>STATION</td>\n",
              "      <td>48.8657658, 2.3664376</td>\n",
              "      <td>75011</td>\n",
              "      <td>Paris/Voltaire/8</td>\n",
              "      <td>operational</td>\n",
              "      <td>NaN</td>\n",
              "      <td>4</td>\n",
              "      <td>station</td>\n",
              "      <td>ok</td>\n",
              "      <td>nonexistent</td>\n",
              "      <td>2018</td>\n",
              "      <td>4</td>\n",
              "      <td>6</td>\n",
              "      <td>7</td>\n",
              "      <td>2</td>\n",
              "    </tr>\n",
              "    <tr>\n",
              "      <th>6</th>\n",
              "      <td>37 rue Leblanc</td>\n",
              "      <td>0</td>\n",
              "      <td>0</td>\n",
              "      <td>0</td>\n",
              "      <td>0</td>\n",
              "      <td>0</td>\n",
              "      <td>nonexistent</td>\n",
              "      <td>Paris</td>\n",
              "      <td>Station en parking (niv -1), accÃ¨s 37 rue Leb...</td>\n",
              "      <td>paris-citroencevennes-parking</td>\n",
              "      <td>PARKING</td>\n",
              "      <td>48.83874, 2.27641</td>\n",
              "      <td>75015</td>\n",
              "      <td>Paris/CitroÃ«n CÃ©vennes/Parking</td>\n",
              "      <td>broken</td>\n",
              "      <td>NaN</td>\n",
              "      <td>0</td>\n",
              "      <td>station</td>\n",
              "      <td>closed</td>\n",
              "      <td>nonexistent</td>\n",
              "      <td>2018</td>\n",
              "      <td>4</td>\n",
              "      <td>8</td>\n",
              "      <td>18</td>\n",
              "      <td>20</td>\n",
              "    </tr>\n",
              "    <tr>\n",
              "      <th>7</th>\n",
              "      <td>17 Rue des Luaps ProlongÃ©e</td>\n",
              "      <td>3</td>\n",
              "      <td>3</td>\n",
              "      <td>1</td>\n",
              "      <td>0</td>\n",
              "      <td>0</td>\n",
              "      <td>nonexistent</td>\n",
              "      <td>Nanterre</td>\n",
              "      <td>NaN</td>\n",
              "      <td>nanterre-luaps-17</td>\n",
              "      <td>STATION</td>\n",
              "      <td>48.88069, 2.21063</td>\n",
              "      <td>92000</td>\n",
              "      <td>Nanterre/Luaps/17</td>\n",
              "      <td>operational</td>\n",
              "      <td>NaN</td>\n",
              "      <td>0</td>\n",
              "      <td>station</td>\n",
              "      <td>ok</td>\n",
              "      <td>nonexistent</td>\n",
              "      <td>2018</td>\n",
              "      <td>4</td>\n",
              "      <td>4</td>\n",
              "      <td>22</td>\n",
              "      <td>13</td>\n",
              "    </tr>\n",
              "    <tr>\n",
              "      <th>8</th>\n",
              "      <td>34 avenue Jean Moulin</td>\n",
              "      <td>1</td>\n",
              "      <td>1</td>\n",
              "      <td>0</td>\n",
              "      <td>0</td>\n",
              "      <td>0</td>\n",
              "      <td>nonexistent</td>\n",
              "      <td>Paris</td>\n",
              "      <td>NaN</td>\n",
              "      <td>paris-jeanmoulin-34</td>\n",
              "      <td>STATION</td>\n",
              "      <td>48.8266807, 2.3237355</td>\n",
              "      <td>75014</td>\n",
              "      <td>Paris/Jean Moulin/34</td>\n",
              "      <td>operational</td>\n",
              "      <td>NaN</td>\n",
              "      <td>4</td>\n",
              "      <td>station</td>\n",
              "      <td>ok</td>\n",
              "      <td>nonexistent</td>\n",
              "      <td>2018</td>\n",
              "      <td>4</td>\n",
              "      <td>2</td>\n",
              "      <td>22</td>\n",
              "      <td>58</td>\n",
              "    </tr>\n",
              "    <tr>\n",
              "      <th>9</th>\n",
              "      <td>41 boulevard de Rochechouart</td>\n",
              "      <td>6</td>\n",
              "      <td>6</td>\n",
              "      <td>0</td>\n",
              "      <td>0</td>\n",
              "      <td>0</td>\n",
              "      <td>nonexistent</td>\n",
              "      <td>Paris</td>\n",
              "      <td>NaN</td>\n",
              "      <td>paris-anvers-parking</td>\n",
              "      <td>PARKING</td>\n",
              "      <td>48.88267, 2.34405</td>\n",
              "      <td>75009</td>\n",
              "      <td>Paris/Anvers/Parking</td>\n",
              "      <td>operational</td>\n",
              "      <td>NaN</td>\n",
              "      <td>0</td>\n",
              "      <td>station</td>\n",
              "      <td>ok</td>\n",
              "      <td>nonexistent</td>\n",
              "      <td>2018</td>\n",
              "      <td>4</td>\n",
              "      <td>4</td>\n",
              "      <td>15</td>\n",
              "      <td>2</td>\n",
              "    </tr>\n",
              "  </tbody>\n",
              "</table>\n",
              "</div>"
            ],
            "text/plain": [
              "                              Address  Cars  Bluecar counter  ...  day  hour  minute\n",
              "0                 2 Avenue de Suffren     0                0  ...    8    11      43\n",
              "1           145 Rue Raymond Losserand     6                6  ...    6     7      24\n",
              "2    2 Avenue John Fitzgerald Kennedy     3                3  ...    3    20      14\n",
              "3              51 Rue EugÃ¨ne OudinÃ©     3                3  ...    4     4      37\n",
              "4  6 avenue de la Porte de Champerret     3                3  ...    8    17      23\n",
              "5                8 Boulevard Voltaire     0                0  ...    6     7       2\n",
              "6                      37 rue Leblanc     0                0  ...    8    18      20\n",
              "7         17 Rue des Luaps ProlongÃ©e     3                3  ...    4    22      13\n",
              "8               34 avenue Jean Moulin     1                1  ...    2    22      58\n",
              "9        41 boulevard de Rochechouart     6                6  ...    4    15       2\n",
              "\n",
              "[10 rows x 25 columns]"
            ]
          },
          "metadata": {
            "tags": []
          },
          "execution_count": 3
        }
      ]
    },
    {
      "cell_type": "code",
      "metadata": {
        "colab": {
          "base_uri": "https://localhost:8080/"
        },
        "id": "DbRuKtovJOJW",
        "outputId": "651361ab-e2fb-430d-8657-34d6bec8e706"
      },
      "source": [
        "# We also go ahead to check the data types for the respective columns\n",
        "electric_car.info()"
      ],
      "execution_count": 4,
      "outputs": [
        {
          "output_type": "stream",
          "text": [
            "<class 'pandas.core.frame.DataFrame'>\n",
            "RangeIndex: 5000 entries, 0 to 4999\n",
            "Data columns (total 25 columns):\n",
            " #   Column               Non-Null Count  Dtype \n",
            "---  ------               --------------  ----- \n",
            " 0   Address              5000 non-null   object\n",
            " 1   Cars                 5000 non-null   int64 \n",
            " 2   Bluecar counter      5000 non-null   int64 \n",
            " 3   Utilib counter       5000 non-null   int64 \n",
            " 4   Utilib 1.4 counter   5000 non-null   int64 \n",
            " 5   Charge Slots         5000 non-null   int64 \n",
            " 6   Charging Status      5000 non-null   object\n",
            " 7   City                 5000 non-null   object\n",
            " 8   Displayed comment    111 non-null    object\n",
            " 9   ID                   5000 non-null   object\n",
            " 10  Kind                 5000 non-null   object\n",
            " 11  Geo point            5000 non-null   object\n",
            " 12  Postal code          5000 non-null   int64 \n",
            " 13  Public name          5000 non-null   object\n",
            " 14  Rental status        5000 non-null   object\n",
            " 15  Scheduled at         47 non-null     object\n",
            " 16  Slots                5000 non-null   int64 \n",
            " 17  Station type         5000 non-null   object\n",
            " 18  Status               5000 non-null   object\n",
            " 19  Subscription status  5000 non-null   object\n",
            " 20  year                 5000 non-null   int64 \n",
            " 21  month                5000 non-null   int64 \n",
            " 22  day                  5000 non-null   int64 \n",
            " 23  hour                 5000 non-null   int64 \n",
            " 24  minute               5000 non-null   int64 \n",
            "dtypes: int64(12), object(13)\n",
            "memory usage: 976.7+ KB\n"
          ],
          "name": "stdout"
        }
      ]
    },
    {
      "cell_type": "markdown",
      "metadata": {
        "id": "emtFhBIHIJDy"
      },
      "source": [
        "# **Data Cleaning**\n"
      ]
    },
    {
      "cell_type": "markdown",
      "metadata": {
        "id": "5OU2x0Pfaqki"
      },
      "source": [
        "The data cleaning process follows five standard procedures:\n",
        "- Validity - to check if the columns in our data file are useful or valid in our analysis\n",
        "- Accuracy - to check if our data is accurate and makes sense logically and numerically\n",
        "- Completeness - to check if our data has any null or missing values\n",
        "- Consistency - to check if our data has any duplicate or redundant values\n",
        "- Uniformity - to check if the columns in our data file are uniform i.e either lower or upper case"
      ]
    },
    {
      "cell_type": "markdown",
      "metadata": {
        "id": "NksfDFo9IPFd"
      },
      "source": [
        "## **Validity**"
      ]
    },
    {
      "cell_type": "code",
      "metadata": {
        "id": "N5Y5lusFIXwj"
      },
      "source": [
        "# This involves dropping irrelevant data which we won't use in our analysis\n",
        "\n",
        "# We drop the geo point column since it is not necessary in our analysis\n",
        "electric_car.drop(\"Geo point\", axis=1, inplace=True)\n",
        "\n",
        "# We also drop the displayed comment column \n",
        "electric_car.drop(\"Displayed comment\", axis=1, inplace=True)\n",
        "\n",
        "# We also drop the scheduled at column \n",
        "electric_car.drop(\"Scheduled at\", axis=1, inplace=True)\n",
        "\n",
        "# We also drop the ID column since it is similar to the public name column\n",
        "electric_car.drop(\"ID\", axis=1, inplace=True)\n",
        "\n",
        "# Since we already know that the data was collected within a period of 9 days \n",
        "# in the month of April 2018, we could as well create a column for date \n",
        "# which will concatenate the year, month and day columns into one\n",
        "electric_car.loc[:,'Date'] = pd.to_datetime(electric_car.year.astype(str) + '-' + electric_car.month.astype(str) + '-' + electric_car.day.astype(str))\n",
        "electric_car\n",
        "\n",
        "# After that, we could drop the year, month, day and minute columns to make the data more valid\n",
        "# since we've only been asked about the most popular hour\n",
        "electric_car.drop([\"year\",\"month\",\"day\",\"minute\"], axis=1, inplace=True)\n"
      ],
      "execution_count": 5,
      "outputs": []
    },
    {
      "cell_type": "code",
      "metadata": {
        "colab": {
          "base_uri": "https://localhost:8080/",
          "height": 779
        },
        "id": "9vyO2Zk2H2wK",
        "outputId": "3f5311d9-2d63-4bc8-f790-a5a83afdd4fe"
      },
      "source": [
        "# We then preview the data after dropping the invalid columns\n",
        "electric_car"
      ],
      "execution_count": 6,
      "outputs": [
        {
          "output_type": "execute_result",
          "data": {
            "text/html": [
              "<div>\n",
              "<style scoped>\n",
              "    .dataframe tbody tr th:only-of-type {\n",
              "        vertical-align: middle;\n",
              "    }\n",
              "\n",
              "    .dataframe tbody tr th {\n",
              "        vertical-align: top;\n",
              "    }\n",
              "\n",
              "    .dataframe thead th {\n",
              "        text-align: right;\n",
              "    }\n",
              "</style>\n",
              "<table border=\"1\" class=\"dataframe\">\n",
              "  <thead>\n",
              "    <tr style=\"text-align: right;\">\n",
              "      <th></th>\n",
              "      <th>Address</th>\n",
              "      <th>Cars</th>\n",
              "      <th>Bluecar counter</th>\n",
              "      <th>Utilib counter</th>\n",
              "      <th>Utilib 1.4 counter</th>\n",
              "      <th>Charge Slots</th>\n",
              "      <th>Charging Status</th>\n",
              "      <th>City</th>\n",
              "      <th>Kind</th>\n",
              "      <th>Postal code</th>\n",
              "      <th>Public name</th>\n",
              "      <th>Rental status</th>\n",
              "      <th>Slots</th>\n",
              "      <th>Station type</th>\n",
              "      <th>Status</th>\n",
              "      <th>Subscription status</th>\n",
              "      <th>hour</th>\n",
              "      <th>Date</th>\n",
              "    </tr>\n",
              "  </thead>\n",
              "  <tbody>\n",
              "    <tr>\n",
              "      <th>0</th>\n",
              "      <td>2 Avenue de Suffren</td>\n",
              "      <td>0</td>\n",
              "      <td>0</td>\n",
              "      <td>0</td>\n",
              "      <td>0</td>\n",
              "      <td>0</td>\n",
              "      <td>nonexistent</td>\n",
              "      <td>Paris</td>\n",
              "      <td>STATION</td>\n",
              "      <td>75015</td>\n",
              "      <td>Paris/Suffren/2</td>\n",
              "      <td>operational</td>\n",
              "      <td>2</td>\n",
              "      <td>station</td>\n",
              "      <td>ok</td>\n",
              "      <td>nonexistent</td>\n",
              "      <td>11</td>\n",
              "      <td>2018-04-08</td>\n",
              "    </tr>\n",
              "    <tr>\n",
              "      <th>1</th>\n",
              "      <td>145 Rue Raymond Losserand</td>\n",
              "      <td>6</td>\n",
              "      <td>6</td>\n",
              "      <td>0</td>\n",
              "      <td>0</td>\n",
              "      <td>0</td>\n",
              "      <td>operational</td>\n",
              "      <td>Paris</td>\n",
              "      <td>STATION</td>\n",
              "      <td>75014</td>\n",
              "      <td>Paris/Raymond Losserand/145</td>\n",
              "      <td>operational</td>\n",
              "      <td>0</td>\n",
              "      <td>station</td>\n",
              "      <td>ok</td>\n",
              "      <td>nonexistent</td>\n",
              "      <td>7</td>\n",
              "      <td>2018-04-06</td>\n",
              "    </tr>\n",
              "    <tr>\n",
              "      <th>2</th>\n",
              "      <td>2 Avenue John Fitzgerald Kennedy</td>\n",
              "      <td>3</td>\n",
              "      <td>3</td>\n",
              "      <td>0</td>\n",
              "      <td>2</td>\n",
              "      <td>0</td>\n",
              "      <td>operational</td>\n",
              "      <td>Le Bourget</td>\n",
              "      <td>STATION</td>\n",
              "      <td>93350</td>\n",
              "      <td>Le Bourget/John Fitzgerald Kennedy/2</td>\n",
              "      <td>operational</td>\n",
              "      <td>1</td>\n",
              "      <td>station</td>\n",
              "      <td>ok</td>\n",
              "      <td>nonexistent</td>\n",
              "      <td>20</td>\n",
              "      <td>2018-04-03</td>\n",
              "    </tr>\n",
              "    <tr>\n",
              "      <th>3</th>\n",
              "      <td>51 Rue EugÃ¨ne OudinÃ©</td>\n",
              "      <td>3</td>\n",
              "      <td>3</td>\n",
              "      <td>1</td>\n",
              "      <td>0</td>\n",
              "      <td>1</td>\n",
              "      <td>operational</td>\n",
              "      <td>Paris</td>\n",
              "      <td>STATION</td>\n",
              "      <td>75013</td>\n",
              "      <td>Paris/EugÃ¨ne OudinÃ©/51</td>\n",
              "      <td>operational</td>\n",
              "      <td>2</td>\n",
              "      <td>station</td>\n",
              "      <td>ok</td>\n",
              "      <td>nonexistent</td>\n",
              "      <td>4</td>\n",
              "      <td>2018-04-04</td>\n",
              "    </tr>\n",
              "    <tr>\n",
              "      <th>4</th>\n",
              "      <td>6 avenue de la Porte de Champerret</td>\n",
              "      <td>3</td>\n",
              "      <td>3</td>\n",
              "      <td>0</td>\n",
              "      <td>0</td>\n",
              "      <td>0</td>\n",
              "      <td>nonexistent</td>\n",
              "      <td>Paris</td>\n",
              "      <td>PARKING</td>\n",
              "      <td>75017</td>\n",
              "      <td>Paris/Porte de Champerret/6</td>\n",
              "      <td>operational</td>\n",
              "      <td>3</td>\n",
              "      <td>station</td>\n",
              "      <td>ok</td>\n",
              "      <td>nonexistent</td>\n",
              "      <td>17</td>\n",
              "      <td>2018-04-08</td>\n",
              "    </tr>\n",
              "    <tr>\n",
              "      <th>...</th>\n",
              "      <td>...</td>\n",
              "      <td>...</td>\n",
              "      <td>...</td>\n",
              "      <td>...</td>\n",
              "      <td>...</td>\n",
              "      <td>...</td>\n",
              "      <td>...</td>\n",
              "      <td>...</td>\n",
              "      <td>...</td>\n",
              "      <td>...</td>\n",
              "      <td>...</td>\n",
              "      <td>...</td>\n",
              "      <td>...</td>\n",
              "      <td>...</td>\n",
              "      <td>...</td>\n",
              "      <td>...</td>\n",
              "      <td>...</td>\n",
              "      <td>...</td>\n",
              "    </tr>\n",
              "    <tr>\n",
              "      <th>4995</th>\n",
              "      <td>8 avenue MÃ©nelotte</td>\n",
              "      <td>2</td>\n",
              "      <td>2</td>\n",
              "      <td>0</td>\n",
              "      <td>0</td>\n",
              "      <td>0</td>\n",
              "      <td>nonexistent</td>\n",
              "      <td>Colombes</td>\n",
              "      <td>STATION</td>\n",
              "      <td>92700</td>\n",
              "      <td>Colombes/MÃ©nelotte/8</td>\n",
              "      <td>operational</td>\n",
              "      <td>3</td>\n",
              "      <td>station</td>\n",
              "      <td>ok</td>\n",
              "      <td>nonexistent</td>\n",
              "      <td>11</td>\n",
              "      <td>2018-04-06</td>\n",
              "    </tr>\n",
              "    <tr>\n",
              "      <th>4996</th>\n",
              "      <td>37 rue de Dantzig</td>\n",
              "      <td>4</td>\n",
              "      <td>4</td>\n",
              "      <td>0</td>\n",
              "      <td>0</td>\n",
              "      <td>1</td>\n",
              "      <td>operational</td>\n",
              "      <td>Paris</td>\n",
              "      <td>STATION</td>\n",
              "      <td>75015</td>\n",
              "      <td>Paris/Dantzig/37</td>\n",
              "      <td>operational</td>\n",
              "      <td>2</td>\n",
              "      <td>station</td>\n",
              "      <td>ok</td>\n",
              "      <td>nonexistent</td>\n",
              "      <td>16</td>\n",
              "      <td>2018-04-04</td>\n",
              "    </tr>\n",
              "    <tr>\n",
              "      <th>4997</th>\n",
              "      <td>142 rue du Bac</td>\n",
              "      <td>1</td>\n",
              "      <td>1</td>\n",
              "      <td>0</td>\n",
              "      <td>0</td>\n",
              "      <td>1</td>\n",
              "      <td>operational</td>\n",
              "      <td>Paris</td>\n",
              "      <td>STATION</td>\n",
              "      <td>75007</td>\n",
              "      <td>Paris/Bac/142</td>\n",
              "      <td>operational</td>\n",
              "      <td>4</td>\n",
              "      <td>station</td>\n",
              "      <td>ok</td>\n",
              "      <td>nonexistent</td>\n",
              "      <td>7</td>\n",
              "      <td>2018-04-01</td>\n",
              "    </tr>\n",
              "    <tr>\n",
              "      <th>4998</th>\n",
              "      <td>2 avenue du Val de Fontenay</td>\n",
              "      <td>2</td>\n",
              "      <td>2</td>\n",
              "      <td>0</td>\n",
              "      <td>0</td>\n",
              "      <td>0</td>\n",
              "      <td>nonexistent</td>\n",
              "      <td>Fontenay-Sous-Bois</td>\n",
              "      <td>STATION</td>\n",
              "      <td>94120</td>\n",
              "      <td>Fontenay-Sous-Bois/Val de Fontenay/2</td>\n",
              "      <td>operational</td>\n",
              "      <td>3</td>\n",
              "      <td>station</td>\n",
              "      <td>ok</td>\n",
              "      <td>nonexistent</td>\n",
              "      <td>17</td>\n",
              "      <td>2018-04-04</td>\n",
              "    </tr>\n",
              "    <tr>\n",
              "      <th>4999</th>\n",
              "      <td>5 Rue Henry Brisson</td>\n",
              "      <td>4</td>\n",
              "      <td>4</td>\n",
              "      <td>0</td>\n",
              "      <td>0</td>\n",
              "      <td>0</td>\n",
              "      <td>operational</td>\n",
              "      <td>Paris</td>\n",
              "      <td>STATION</td>\n",
              "      <td>75018</td>\n",
              "      <td>Paris/Henry Brisson/5</td>\n",
              "      <td>operational</td>\n",
              "      <td>0</td>\n",
              "      <td>station</td>\n",
              "      <td>ok</td>\n",
              "      <td>nonexistent</td>\n",
              "      <td>10</td>\n",
              "      <td>2018-04-08</td>\n",
              "    </tr>\n",
              "  </tbody>\n",
              "</table>\n",
              "<p>5000 rows × 18 columns</p>\n",
              "</div>"
            ],
            "text/plain": [
              "                                 Address  Cars  ...  hour       Date\n",
              "0                    2 Avenue de Suffren     0  ...    11 2018-04-08\n",
              "1              145 Rue Raymond Losserand     6  ...     7 2018-04-06\n",
              "2       2 Avenue John Fitzgerald Kennedy     3  ...    20 2018-04-03\n",
              "3                 51 Rue EugÃ¨ne OudinÃ©     3  ...     4 2018-04-04\n",
              "4     6 avenue de la Porte de Champerret     3  ...    17 2018-04-08\n",
              "...                                  ...   ...  ...   ...        ...\n",
              "4995                 8 avenue MÃ©nelotte     2  ...    11 2018-04-06\n",
              "4996                   37 rue de Dantzig     4  ...    16 2018-04-04\n",
              "4997                      142 rue du Bac     1  ...     7 2018-04-01\n",
              "4998         2 avenue du Val de Fontenay     2  ...    17 2018-04-04\n",
              "4999                 5 Rue Henry Brisson     4  ...    10 2018-04-08\n",
              "\n",
              "[5000 rows x 18 columns]"
            ]
          },
          "metadata": {
            "tags": []
          },
          "execution_count": 6
        }
      ]
    },
    {
      "cell_type": "markdown",
      "metadata": {
        "id": "0s0LERO0SFK-"
      },
      "source": [
        "## **Accuracy**"
      ]
    },
    {
      "cell_type": "code",
      "metadata": {
        "colab": {
          "base_uri": "https://localhost:8080/"
        },
        "id": "_3JsJN-XSJNo",
        "outputId": "351ca91b-d1ec-40ea-819d-607febee4eef"
      },
      "source": [
        "# This involves checking whether the resources in our data file are accurate\n",
        "# i.e cars, bluecar counter, utilib, utilib 1.4, charging slots and slots\n",
        "electric_car[\"Cars\"].sum() # The total number of cars is 11668\n",
        "electric_car[\"Bluecar counter\"].sum() # The total number of Bluecars is 11668\n",
        "\n",
        "# This is just to confirm if the datafile is accurate \n",
        "# by checking if the sum of cars is equal to the sum of bluecars\n",
        "# as explained in the description\n",
        "Accuracy = electric_car[\"Cars\"].sum() == electric_car[\"Bluecar counter\"].sum()\n",
        "Accuracy"
      ],
      "execution_count": 7,
      "outputs": [
        {
          "output_type": "execute_result",
          "data": {
            "text/plain": [
              "True"
            ]
          },
          "metadata": {
            "tags": []
          },
          "execution_count": 7
        }
      ]
    },
    {
      "cell_type": "markdown",
      "metadata": {
        "id": "JcUxQcDYX2GQ"
      },
      "source": [
        "## **Completeness**"
      ]
    },
    {
      "cell_type": "code",
      "metadata": {
        "colab": {
          "base_uri": "https://localhost:8080/"
        },
        "id": "iqw0DFznYC_K",
        "outputId": "7844b65c-bc20-4583-d3ba-b03c06da2c66"
      },
      "source": [
        "# We confirm if the data file is complete by checking for null/missing values\n",
        "electric_car.isnull().any()\n",
        "\n",
        "# We can confirm that the datafile is complete since there are no missing values\n",
        "# in any of the columns"
      ],
      "execution_count": 8,
      "outputs": [
        {
          "output_type": "execute_result",
          "data": {
            "text/plain": [
              "Address                False\n",
              "Cars                   False\n",
              "Bluecar counter        False\n",
              "Utilib counter         False\n",
              "Utilib 1.4 counter     False\n",
              "Charge Slots           False\n",
              "Charging Status        False\n",
              "City                   False\n",
              "Kind                   False\n",
              "Postal code            False\n",
              "Public name            False\n",
              "Rental status          False\n",
              "Slots                  False\n",
              "Station type           False\n",
              "Status                 False\n",
              "Subscription status    False\n",
              "hour                   False\n",
              "Date                   False\n",
              "dtype: bool"
            ]
          },
          "metadata": {
            "tags": []
          },
          "execution_count": 8
        }
      ]
    },
    {
      "cell_type": "markdown",
      "metadata": {
        "id": "QcEZ42zXYshc"
      },
      "source": [
        "## **Consistency**"
      ]
    },
    {
      "cell_type": "code",
      "metadata": {
        "id": "HSsuxKKaYyXz"
      },
      "source": [
        "# We check for any duplicate values in our datafile\n",
        "electric_car.duplicated().any()\n",
        "\n",
        "# We can confirm that the datafile has no duplicate values\n",
        "# We then remember that the cars column is similar to the bluecar counter column\n",
        "# Thus we can drop the cars column since it makes our data file redundant\n",
        "electric_car.drop(\"Cars\", axis=1, inplace=True) "
      ],
      "execution_count": 9,
      "outputs": []
    },
    {
      "cell_type": "markdown",
      "metadata": {
        "id": "OG2tMxRFZrAn"
      },
      "source": [
        "## **Uniformity**"
      ]
    },
    {
      "cell_type": "code",
      "metadata": {
        "colab": {
          "base_uri": "https://localhost:8080/",
          "height": 445
        },
        "id": "SwC3pO2aZzAt",
        "outputId": "50901a83-bc6c-4093-dd6a-dc0f13d81342"
      },
      "source": [
        "# We go ahead to make sure all the column names are uniform\n",
        "electric_car = electric_car.rename(columns = str.lower)\n",
        "electric_car.head()"
      ],
      "execution_count": 10,
      "outputs": [
        {
          "output_type": "execute_result",
          "data": {
            "text/html": [
              "<div>\n",
              "<style scoped>\n",
              "    .dataframe tbody tr th:only-of-type {\n",
              "        vertical-align: middle;\n",
              "    }\n",
              "\n",
              "    .dataframe tbody tr th {\n",
              "        vertical-align: top;\n",
              "    }\n",
              "\n",
              "    .dataframe thead th {\n",
              "        text-align: right;\n",
              "    }\n",
              "</style>\n",
              "<table border=\"1\" class=\"dataframe\">\n",
              "  <thead>\n",
              "    <tr style=\"text-align: right;\">\n",
              "      <th></th>\n",
              "      <th>address</th>\n",
              "      <th>bluecar counter</th>\n",
              "      <th>utilib counter</th>\n",
              "      <th>utilib 1.4 counter</th>\n",
              "      <th>charge slots</th>\n",
              "      <th>charging status</th>\n",
              "      <th>city</th>\n",
              "      <th>kind</th>\n",
              "      <th>postal code</th>\n",
              "      <th>public name</th>\n",
              "      <th>rental status</th>\n",
              "      <th>slots</th>\n",
              "      <th>station type</th>\n",
              "      <th>status</th>\n",
              "      <th>subscription status</th>\n",
              "      <th>hour</th>\n",
              "      <th>date</th>\n",
              "    </tr>\n",
              "  </thead>\n",
              "  <tbody>\n",
              "    <tr>\n",
              "      <th>0</th>\n",
              "      <td>2 Avenue de Suffren</td>\n",
              "      <td>0</td>\n",
              "      <td>0</td>\n",
              "      <td>0</td>\n",
              "      <td>0</td>\n",
              "      <td>nonexistent</td>\n",
              "      <td>Paris</td>\n",
              "      <td>STATION</td>\n",
              "      <td>75015</td>\n",
              "      <td>Paris/Suffren/2</td>\n",
              "      <td>operational</td>\n",
              "      <td>2</td>\n",
              "      <td>station</td>\n",
              "      <td>ok</td>\n",
              "      <td>nonexistent</td>\n",
              "      <td>11</td>\n",
              "      <td>2018-04-08</td>\n",
              "    </tr>\n",
              "    <tr>\n",
              "      <th>1</th>\n",
              "      <td>145 Rue Raymond Losserand</td>\n",
              "      <td>6</td>\n",
              "      <td>0</td>\n",
              "      <td>0</td>\n",
              "      <td>0</td>\n",
              "      <td>operational</td>\n",
              "      <td>Paris</td>\n",
              "      <td>STATION</td>\n",
              "      <td>75014</td>\n",
              "      <td>Paris/Raymond Losserand/145</td>\n",
              "      <td>operational</td>\n",
              "      <td>0</td>\n",
              "      <td>station</td>\n",
              "      <td>ok</td>\n",
              "      <td>nonexistent</td>\n",
              "      <td>7</td>\n",
              "      <td>2018-04-06</td>\n",
              "    </tr>\n",
              "    <tr>\n",
              "      <th>2</th>\n",
              "      <td>2 Avenue John Fitzgerald Kennedy</td>\n",
              "      <td>3</td>\n",
              "      <td>0</td>\n",
              "      <td>2</td>\n",
              "      <td>0</td>\n",
              "      <td>operational</td>\n",
              "      <td>Le Bourget</td>\n",
              "      <td>STATION</td>\n",
              "      <td>93350</td>\n",
              "      <td>Le Bourget/John Fitzgerald Kennedy/2</td>\n",
              "      <td>operational</td>\n",
              "      <td>1</td>\n",
              "      <td>station</td>\n",
              "      <td>ok</td>\n",
              "      <td>nonexistent</td>\n",
              "      <td>20</td>\n",
              "      <td>2018-04-03</td>\n",
              "    </tr>\n",
              "    <tr>\n",
              "      <th>3</th>\n",
              "      <td>51 Rue EugÃ¨ne OudinÃ©</td>\n",
              "      <td>3</td>\n",
              "      <td>1</td>\n",
              "      <td>0</td>\n",
              "      <td>1</td>\n",
              "      <td>operational</td>\n",
              "      <td>Paris</td>\n",
              "      <td>STATION</td>\n",
              "      <td>75013</td>\n",
              "      <td>Paris/EugÃ¨ne OudinÃ©/51</td>\n",
              "      <td>operational</td>\n",
              "      <td>2</td>\n",
              "      <td>station</td>\n",
              "      <td>ok</td>\n",
              "      <td>nonexistent</td>\n",
              "      <td>4</td>\n",
              "      <td>2018-04-04</td>\n",
              "    </tr>\n",
              "    <tr>\n",
              "      <th>4</th>\n",
              "      <td>6 avenue de la Porte de Champerret</td>\n",
              "      <td>3</td>\n",
              "      <td>0</td>\n",
              "      <td>0</td>\n",
              "      <td>0</td>\n",
              "      <td>nonexistent</td>\n",
              "      <td>Paris</td>\n",
              "      <td>PARKING</td>\n",
              "      <td>75017</td>\n",
              "      <td>Paris/Porte de Champerret/6</td>\n",
              "      <td>operational</td>\n",
              "      <td>3</td>\n",
              "      <td>station</td>\n",
              "      <td>ok</td>\n",
              "      <td>nonexistent</td>\n",
              "      <td>17</td>\n",
              "      <td>2018-04-08</td>\n",
              "    </tr>\n",
              "  </tbody>\n",
              "</table>\n",
              "</div>"
            ],
            "text/plain": [
              "                              address  bluecar counter  ...  hour       date\n",
              "0                 2 Avenue de Suffren                0  ...    11 2018-04-08\n",
              "1           145 Rue Raymond Losserand                6  ...     7 2018-04-06\n",
              "2    2 Avenue John Fitzgerald Kennedy                3  ...    20 2018-04-03\n",
              "3              51 Rue EugÃ¨ne OudinÃ©                3  ...     4 2018-04-04\n",
              "4  6 avenue de la Porte de Champerret                3  ...    17 2018-04-08\n",
              "\n",
              "[5 rows x 17 columns]"
            ]
          },
          "metadata": {
            "tags": []
          },
          "execution_count": 10
        }
      ]
    },
    {
      "cell_type": "markdown",
      "metadata": {
        "id": "Et55mJKhdRGk"
      },
      "source": [
        "# **Exporting our cleaned dataset into a csv file**"
      ]
    },
    {
      "cell_type": "code",
      "metadata": {
        "id": "m5iCcpUribiA"
      },
      "source": [
        "# We go ahead to export our cleaned dataset into a csv file \n",
        "# This allows us to work with the cleaned dataset in a different environment if need be\n",
        "# We name the new csv file Electric Car Usage\n",
        "electric_car.to_csv('Electric Car Usage.csv',index=False)\n"
      ],
      "execution_count": 11,
      "outputs": []
    },
    {
      "cell_type": "markdown",
      "metadata": {
        "id": "HcSisCZc6qLm"
      },
      "source": [
        "# **Data analysis using SQL**"
      ]
    },
    {
      "cell_type": "markdown",
      "metadata": {
        "id": "b-Sadmce7Kj7"
      },
      "source": [
        "## **Connecting to our SQL Database**"
      ]
    },
    {
      "cell_type": "code",
      "metadata": {
        "colab": {
          "base_uri": "https://localhost:8080/",
          "height": 35
        },
        "id": "YhavR19q7xmI",
        "outputId": "47eb5c33-3c25-4320-f5be-7cfcba11ed7b"
      },
      "source": [
        "# We first load the sql extension into our environment\n",
        "%load_ext sql\n",
        "\n",
        "# Then connect to our in memory sqlite database\n",
        "%sql sqlite://"
      ],
      "execution_count": 12,
      "outputs": [
        {
          "output_type": "execute_result",
          "data": {
            "application/vnd.google.colaboratory.intrinsic+json": {
              "type": "string"
            },
            "text/plain": [
              "'Connected: @None'"
            ]
          },
          "metadata": {
            "tags": []
          },
          "execution_count": 12
        }
      ]
    },
    {
      "cell_type": "markdown",
      "metadata": {
        "id": "LchdpYcc74_O"
      },
      "source": [
        "## **Importing our clean dataset from the csv file for analysis**"
      ]
    },
    {
      "cell_type": "code",
      "metadata": {
        "colab": {
          "base_uri": "https://localhost:8080/",
          "height": 332
        },
        "id": "hejA0jTq734B",
        "outputId": "1696883f-0864-4ef7-eb67-bb6535148b03"
      },
      "source": [
        "with open('/content/Electric Car Usage.csv','r') as f:\n",
        "    ElectricCar_Usage = pd.read_csv(f, index_col=0, encoding='utf-8')\n",
        "%sql DROP TABLE if EXISTS ElectricCar_Usage;\n",
        "%sql PERSIST ElectricCar_Usage;\n",
        "%sql SELECT * FROM ElectricCar_Usage LIMIT 5;"
      ],
      "execution_count": 13,
      "outputs": [
        {
          "output_type": "stream",
          "text": [
            " * sqlite://\n",
            "Done.\n",
            " * sqlite://\n",
            " * sqlite://\n",
            "Done.\n"
          ],
          "name": "stdout"
        },
        {
          "output_type": "execute_result",
          "data": {
            "text/html": [
              "<table>\n",
              "    <thead>\n",
              "        <tr>\n",
              "            <th>address</th>\n",
              "            <th>bluecar counter</th>\n",
              "            <th>utilib counter</th>\n",
              "            <th>utilib 1.4 counter</th>\n",
              "            <th>charge slots</th>\n",
              "            <th>charging status</th>\n",
              "            <th>city</th>\n",
              "            <th>kind</th>\n",
              "            <th>postal code</th>\n",
              "            <th>public name</th>\n",
              "            <th>rental status</th>\n",
              "            <th>slots</th>\n",
              "            <th>station type</th>\n",
              "            <th>status</th>\n",
              "            <th>subscription status</th>\n",
              "            <th>hour</th>\n",
              "            <th>date</th>\n",
              "        </tr>\n",
              "    </thead>\n",
              "    <tbody>\n",
              "        <tr>\n",
              "            <td>2 Avenue de Suffren</td>\n",
              "            <td>0</td>\n",
              "            <td>0</td>\n",
              "            <td>0</td>\n",
              "            <td>0</td>\n",
              "            <td>nonexistent</td>\n",
              "            <td>Paris</td>\n",
              "            <td>STATION</td>\n",
              "            <td>75015</td>\n",
              "            <td>Paris/Suffren/2</td>\n",
              "            <td>operational</td>\n",
              "            <td>2</td>\n",
              "            <td>station</td>\n",
              "            <td>ok</td>\n",
              "            <td>nonexistent</td>\n",
              "            <td>11</td>\n",
              "            <td>2018-04-08</td>\n",
              "        </tr>\n",
              "        <tr>\n",
              "            <td>145 Rue Raymond Losserand</td>\n",
              "            <td>6</td>\n",
              "            <td>0</td>\n",
              "            <td>0</td>\n",
              "            <td>0</td>\n",
              "            <td>operational</td>\n",
              "            <td>Paris</td>\n",
              "            <td>STATION</td>\n",
              "            <td>75014</td>\n",
              "            <td>Paris/Raymond Losserand/145</td>\n",
              "            <td>operational</td>\n",
              "            <td>0</td>\n",
              "            <td>station</td>\n",
              "            <td>ok</td>\n",
              "            <td>nonexistent</td>\n",
              "            <td>7</td>\n",
              "            <td>2018-04-06</td>\n",
              "        </tr>\n",
              "        <tr>\n",
              "            <td>2 Avenue John Fitzgerald Kennedy</td>\n",
              "            <td>3</td>\n",
              "            <td>0</td>\n",
              "            <td>2</td>\n",
              "            <td>0</td>\n",
              "            <td>operational</td>\n",
              "            <td>Le Bourget</td>\n",
              "            <td>STATION</td>\n",
              "            <td>93350</td>\n",
              "            <td>Le Bourget/John Fitzgerald Kennedy/2</td>\n",
              "            <td>operational</td>\n",
              "            <td>1</td>\n",
              "            <td>station</td>\n",
              "            <td>ok</td>\n",
              "            <td>nonexistent</td>\n",
              "            <td>20</td>\n",
              "            <td>2018-04-03</td>\n",
              "        </tr>\n",
              "        <tr>\n",
              "            <td>51 Rue EugÃ¨ne OudinÃ©</td>\n",
              "            <td>3</td>\n",
              "            <td>1</td>\n",
              "            <td>0</td>\n",
              "            <td>1</td>\n",
              "            <td>operational</td>\n",
              "            <td>Paris</td>\n",
              "            <td>STATION</td>\n",
              "            <td>75013</td>\n",
              "            <td>Paris/EugÃ¨ne OudinÃ©/51</td>\n",
              "            <td>operational</td>\n",
              "            <td>2</td>\n",
              "            <td>station</td>\n",
              "            <td>ok</td>\n",
              "            <td>nonexistent</td>\n",
              "            <td>4</td>\n",
              "            <td>2018-04-04</td>\n",
              "        </tr>\n",
              "        <tr>\n",
              "            <td>6 avenue de la Porte de Champerret</td>\n",
              "            <td>3</td>\n",
              "            <td>0</td>\n",
              "            <td>0</td>\n",
              "            <td>0</td>\n",
              "            <td>nonexistent</td>\n",
              "            <td>Paris</td>\n",
              "            <td>PARKING</td>\n",
              "            <td>75017</td>\n",
              "            <td>Paris/Porte de Champerret/6</td>\n",
              "            <td>operational</td>\n",
              "            <td>3</td>\n",
              "            <td>station</td>\n",
              "            <td>ok</td>\n",
              "            <td>nonexistent</td>\n",
              "            <td>17</td>\n",
              "            <td>2018-04-08</td>\n",
              "        </tr>\n",
              "    </tbody>\n",
              "</table>"
            ],
            "text/plain": [
              "[('2 Avenue de Suffren', 0, 0, 0, 0, 'nonexistent', 'Paris', 'STATION', 75015, 'Paris/Suffren/2', 'operational', 2, 'station', 'ok', 'nonexistent', 11, '2018-04-08'),\n",
              " ('145 Rue Raymond Losserand', 6, 0, 0, 0, 'operational', 'Paris', 'STATION', 75014, 'Paris/Raymond Losserand/145', 'operational', 0, 'station', 'ok', 'nonexistent', 7, '2018-04-06'),\n",
              " ('2 Avenue John Fitzgerald Kennedy', 3, 0, 2, 0, 'operational', 'Le Bourget', 'STATION', 93350, 'Le Bourget/John Fitzgerald Kennedy/2', 'operational', 1, 'station', 'ok', 'nonexistent', 20, '2018-04-03'),\n",
              " ('51 Rue EugÃ¨ne OudinÃ©', 3, 1, 0, 1, 'operational', 'Paris', 'STATION', 75013, 'Paris/EugÃ¨ne OudinÃ©/51', 'operational', 2, 'station', 'ok', 'nonexistent', 4, '2018-04-04'),\n",
              " ('6 avenue de la Porte de Champerret', 3, 0, 0, 0, 'nonexistent', 'Paris', 'PARKING', 75017, 'Paris/Porte de Champerret/6', 'operational', 3, 'station', 'ok', 'nonexistent', 17, '2018-04-08')]"
            ]
          },
          "metadata": {
            "tags": []
          },
          "execution_count": 13
        }
      ]
    },
    {
      "cell_type": "markdown",
      "metadata": {
        "id": "G9s2vcYxZS8j"
      },
      "source": [
        "# **Answering the research questions**"
      ]
    },
    {
      "cell_type": "markdown",
      "metadata": {
        "id": "Bh29dOuKaETO"
      },
      "source": [
        "## **Question 1. Identify the most popular hour of the day for picking up a shared electric car (Bluecar) in the city of Paris over the month of April 2018.**"
      ]
    },
    {
      "cell_type": "code",
      "metadata": {
        "colab": {
          "base_uri": "https://localhost:8080/",
          "height": 95
        },
        "id": "6qPGGFn_aYix",
        "outputId": "43f58001-8483-4492-a534-2e2c50336d71"
      },
      "source": [
        "%%sql\n",
        "SELECT hour from ElectricCar_Usage\n",
        "WHERE \"bluecar counter\" = 0 and city = 'Paris' and status = \"ok\" and \"rental status\" = 'operational' and kind <> 'CENTER' and 'station type' <> \"subs_center\"\n",
        "GROUP BY hour\n",
        "ORDER BY count(hour) DESC\n",
        "LIMIT 1;"
      ],
      "execution_count": 14,
      "outputs": [
        {
          "output_type": "stream",
          "text": [
            " * sqlite://\n",
            "Done.\n"
          ],
          "name": "stdout"
        },
        {
          "output_type": "execute_result",
          "data": {
            "text/html": [
              "<table>\n",
              "    <thead>\n",
              "        <tr>\n",
              "            <th>hour</th>\n",
              "        </tr>\n",
              "    </thead>\n",
              "    <tbody>\n",
              "        <tr>\n",
              "            <td>2</td>\n",
              "        </tr>\n",
              "    </tbody>\n",
              "</table>"
            ],
            "text/plain": [
              "[(2,)]"
            ]
          },
          "metadata": {
            "tags": []
          },
          "execution_count": 14
        }
      ]
    },
    {
      "cell_type": "markdown",
      "metadata": {
        "id": "JYgx-2fzkM9w"
      },
      "source": [
        "- Therefore we can determine that **hour 2 (2am)** was the most popular hour of the day for picking up a Bluecar in the city of Paris over the month of April 2018. "
      ]
    },
    {
      "cell_type": "markdown",
      "metadata": {
        "id": "HSsCq4l0umJU"
      },
      "source": [
        "## **Question 2. What is the most popular hour for returning cars ?**"
      ]
    },
    {
      "cell_type": "code",
      "metadata": {
        "colab": {
          "base_uri": "https://localhost:8080/",
          "height": 95
        },
        "id": "Jf-sOr5buz__",
        "outputId": "fe170bf8-6112-4f7b-bcb4-2bd41d733810"
      },
      "source": [
        "%%sql\n",
        "SELECT count('bluecar counter'), hour from ElectricCar_Usage\n",
        "WHERE city = 'Paris' and status = \"ok\" and \"rental status\" = 'operational' and kind <> 'CENTER' and 'station type' <> \"subs_center\"\n",
        "GROUP BY hour\n",
        "ORDER BY count('bluecar counter') DESC\n",
        "LIMIT 1;"
      ],
      "execution_count": 21,
      "outputs": [
        {
          "output_type": "stream",
          "text": [
            " * sqlite://\n",
            "Done.\n"
          ],
          "name": "stdout"
        },
        {
          "output_type": "execute_result",
          "data": {
            "text/html": [
              "<table>\n",
              "    <thead>\n",
              "        <tr>\n",
              "            <th>count(&#x27;bluecar counter&#x27;)</th>\n",
              "            <th>hour</th>\n",
              "        </tr>\n",
              "    </thead>\n",
              "    <tbody>\n",
              "        <tr>\n",
              "            <td>132</td>\n",
              "            <td>21</td>\n",
              "        </tr>\n",
              "    </tbody>\n",
              "</table>"
            ],
            "text/plain": [
              "[(132, 21)]"
            ]
          },
          "metadata": {
            "tags": []
          },
          "execution_count": 21
        }
      ]
    },
    {
      "cell_type": "markdown",
      "metadata": {
        "id": "TdSt0GKevPyC"
      },
      "source": [
        "- We can determine that **hour 21 (9pm)** was the most popular hour of the day for returning a Bluecar in Paris over the month of April 2018"
      ]
    },
    {
      "cell_type": "markdown",
      "metadata": {
        "id": "F1IOw5HnoiNF"
      },
      "source": [
        "## **Question 3. What station is the most popular?**"
      ]
    },
    {
      "cell_type": "code",
      "metadata": {
        "colab": {
          "base_uri": "https://localhost:8080/",
          "height": 95
        },
        "id": "Bj2paJa7oTF_",
        "outputId": "be127fd0-64db-4787-e062-e4a2c1828ad5"
      },
      "source": [
        "%%sql\n",
        "SELECT \"public name\", count(\"public name\"), city from ElectricCar_Usage\n",
        "WHERE kind in ('STATION','SPACE') and \"charging status\" = 'operational' and \"rental status\" = 'operational' and \"station type\" <> 'subs_center' and status = 'ok' and \"subscription status\" = 'operational'\n",
        "GROUP BY \"public name\" \n",
        "ORDER BY count(\"public name\") DESC\n",
        "LIMIT 1;"
      ],
      "execution_count": 25,
      "outputs": [
        {
          "output_type": "stream",
          "text": [
            " * sqlite://\n",
            "Done.\n"
          ],
          "name": "stdout"
        },
        {
          "output_type": "execute_result",
          "data": {
            "text/html": [
              "<table>\n",
              "    <thead>\n",
              "        <tr>\n",
              "            <th>public name</th>\n",
              "            <th>count(&quot;public name&quot;)</th>\n",
              "            <th>city</th>\n",
              "        </tr>\n",
              "    </thead>\n",
              "    <tbody>\n",
              "        <tr>\n",
              "            <td>Paris/PyrÃ©nÃ©es/137</td>\n",
              "            <td>7</td>\n",
              "            <td>Paris</td>\n",
              "        </tr>\n",
              "    </tbody>\n",
              "</table>"
            ],
            "text/plain": [
              "[('Paris/PyrÃ©nÃ©es/137', 7, 'Paris')]"
            ]
          },
          "metadata": {
            "tags": []
          },
          "execution_count": 25
        }
      ]
    },
    {
      "cell_type": "markdown",
      "metadata": {
        "id": "VJOb9IZkuzmK"
      },
      "source": [
        "- We can determine that the station **Paris/PyrÃ©nÃ©es/137 in Paris** is the most popular station.  "
      ]
    },
    {
      "cell_type": "markdown",
      "metadata": {
        "id": "Mtvvj1vpvIgv"
      },
      "source": [
        "## **Question 4. What station is the most popular at 2am(most popular picking hour)?**"
      ]
    },
    {
      "cell_type": "code",
      "metadata": {
        "colab": {
          "base_uri": "https://localhost:8080/",
          "height": 95
        },
        "id": "GAc6olAfvZyz",
        "outputId": "76dcb868-c44e-4179-a66c-9866129ee138"
      },
      "source": [
        "%%sql\n",
        "SELECT \"public name\", count(\"public name\"), city from ElectricCar_Usage\n",
        "WHERE hour = 2 and kind in ('STATION','SPACE') and \"charging status\" = 'operational' and \"rental status\" = 'operational' and \"station type\" <> 'subs_center' and status = 'ok' and \"subscription status\" = 'operational'\n",
        "GROUP BY \"public name\" \n",
        "ORDER BY count(\"public name\") DESC\n",
        "LIMIT 1;"
      ],
      "execution_count": 24,
      "outputs": [
        {
          "output_type": "stream",
          "text": [
            " * sqlite://\n",
            "Done.\n"
          ],
          "name": "stdout"
        },
        {
          "output_type": "execute_result",
          "data": {
            "text/html": [
              "<table>\n",
              "    <thead>\n",
              "        <tr>\n",
              "            <th>public name</th>\n",
              "            <th>count(&quot;public name&quot;)</th>\n",
              "            <th>city</th>\n",
              "        </tr>\n",
              "    </thead>\n",
              "    <tbody>\n",
              "        <tr>\n",
              "            <td>Paris/Parmentier/2</td>\n",
              "            <td>1</td>\n",
              "            <td>Paris</td>\n",
              "        </tr>\n",
              "    </tbody>\n",
              "</table>"
            ],
            "text/plain": [
              "[('Paris/Parmentier/2', 1, 'Paris')]"
            ]
          },
          "metadata": {
            "tags": []
          },
          "execution_count": 24
        }
      ]
    },
    {
      "cell_type": "markdown",
      "metadata": {
        "id": "WOegDed53TYe"
      },
      "source": [
        "- We can determine that the station **Paris/Parmentier/2** is still the most popular station at 9pm. "
      ]
    }
  ]
}